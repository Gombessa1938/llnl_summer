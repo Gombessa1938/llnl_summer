{
  "nbformat": 4,
  "nbformat_minor": 0,
  "metadata": {
    "colab": {
      "name": "llnl_svd.ipynb",
      "provenance": []
    },
    "kernelspec": {
      "name": "python3",
      "display_name": "Python 3"
    },
    "language_info": {
      "name": "python"
    }
  },
  "cells": [
    {
      "cell_type": "markdown",
      "source": [
        "*   Static-snapshot linear analysis: Concatenate the matrices to produce a matrix A of size 104508 x 216. Compute its singular values. How fast do they decay? Could a low-order representing do a good job here?"
      ],
      "metadata": {
        "id": "7ukg2OFU7b01"
      }
    },
    {
      "cell_type": "code",
      "execution_count": 1,
      "metadata": {
        "id": "KpMtJFdZ5Bbx"
      },
      "outputs": [],
      "source": [
        "import numpy as np \n",
        "from scipy import linalg\n",
        "import matplotlib.pyplot as plt\n",
        "np.set_printoptions(suppress=True)\n",
        "\n",
        "pl = np.load('rts_gmlc_pl.npy')\n",
        "va = np.load('rts_gmlc_va.npy')\n",
        "vm = np.load('rts_gmlc_vm.npy')\n",
        "\n",
        "concat = np.concatenate((pl,va,vm),axis=1)\n",
        "U,s,Vh = linalg.svd(concat,full_matrices = False)"
      ]
    },
    {
      "cell_type": "markdown",
      "source": [
        "First 50 singlar values"
      ],
      "metadata": {
        "id": "9qUosWw39cKw"
      }
    },
    {
      "cell_type": "code",
      "source": [
        "print(s[0:50])\n",
        "plt.plot(s[0:50])"
      ],
      "metadata": {
        "colab": {
          "base_uri": "https://localhost:8080/",
          "height": 508
        },
        "id": "cJlGZbFS6vOU",
        "outputId": "25182ac3-6abe-4b51-e7cc-2cf98aa3dfe9"
      },
      "execution_count": 2,
      "outputs": [
        {
          "output_type": "stream",
          "name": "stdout",
          "text": [
            "[325187.56355666  79784.65677941  20329.61810787   8033.27628964\n",
            "   1005.54863642    289.07222315     81.78442011     33.41786665\n",
            "     10.74542177      9.17728921      2.98410013      2.24133951\n",
            "      1.67947222      0.84960734      0.78325124      0.33784544\n",
            "      0.21043485      0.16517427      0.07837009      0.0645473\n",
            "      0.05051775      0.02537296      0.01837056      0.01440031\n",
            "      0.0077197       0.00759051      0.00583333      0.0040428\n",
            "      0.0032641       0.00264809      0.00223598      0.00187568\n",
            "      0.0014256       0.0009023       0.00050167      0.00040113\n",
            "      0.00034513      0.00028457      0.00026348      0.0001804\n",
            "      0.00017767      0.0001342       0.00009475      0.00007763\n",
            "      0.0000478       0.00004165      0.00003152      0.00002457\n",
            "      0.00001785      0.00001666]\n"
          ]
        },
        {
          "output_type": "execute_result",
          "data": {
            "text/plain": [
              "[<matplotlib.lines.Line2D at 0x7f210e31e590>]"
            ]
          },
          "metadata": {},
          "execution_count": 2
        },
        {
          "output_type": "display_data",
          "data": {
            "text/plain": [
              "<Figure size 432x288 with 1 Axes>"
            ],
            "image/png": "[encoded data removed]"
          },
          "metadata": {
            "needs_background": "light"
          }
        }
      ]
    },
    {
      "cell_type": "code",
      "source": [
        "m,n = concat.shape[0],concat.shape[1]\n",
        "sigma = np.zeros((concat.shape[1],concat.shape[1]))\n",
        "for i in range(min(m,n)):\n",
        "  sigma[i,i] = s[i]\n",
        "re = np.dot(U,np.dot(sigma,Vh))\n",
        "diff = np.linalg.norm(concat - re)\n",
        "print('reconstuct error is : ',diff)"
      ],
      "metadata": {
        "colab": {
          "base_uri": "https://localhost:8080/"
        },
        "id": "Bm_XSrw56vrW",
        "outputId": "71c98bdc-80e8-4445-ee6c-f4f28d3b324f"
      },
      "execution_count": 3,
      "outputs": [
        {
          "output_type": "stream",
          "name": "stdout",
          "text": [
            "reconstuct error is :  7.337577308335846e-10\n"
          ]
        }
      ]
    },
    {
      "cell_type": "code",
      "source": [
        "U_truncated = U[:,:5]\n",
        "s_truncated = sigma[0:5,0:5]\n",
        "Vh_truncated = Vh[0:5,:]\n",
        "reconstruct = U_truncated @ s_truncated @ Vh_truncated\n",
        "\n",
        "plt.plot(reconstruct[:,0])"
      ],
      "metadata": {
        "colab": {
          "base_uri": "https://localhost:8080/",
          "height": 282
        },
        "id": "RWPpw5fA6w_7",
        "outputId": "fdede670-39b5-47b5-9ed4-23e2fe772dc6"
      },
      "execution_count": 4,
      "outputs": [
        {
          "output_type": "execute_result",
          "data": {
            "text/plain": [
              "[<matplotlib.lines.Line2D at 0x7f210de095d0>]"
            ]
          },
          "metadata": {},
          "execution_count": 4
        },
        {
          "output_type": "display_data",
          "data": {
            "text/plain": [
              "<Figure size 432x288 with 1 Axes>"
            ],
            "image/png": "[encoded data removed]"
          },
          "metadata": {
            "needs_background": "light"
          }
        }
      ]
    },
    {
      "cell_type": "code",
      "source": [
        "plt.plot(concat[:,0] - reconstruct[:,0])"
      ],
      "metadata": {
        "colab": {
          "base_uri": "https://localhost:8080/",
          "height": 282
        },
        "id": "W8iNVNPw6yEy",
        "outputId": "2b539a90-9995-4f63-d3d3-b8d2c0c16688"
      },
      "execution_count": 5,
      "outputs": [
        {
          "output_type": "execute_result",
          "data": {
            "text/plain": [
              "[<matplotlib.lines.Line2D at 0x7f210dd7a110>]"
            ]
          },
          "metadata": {},
          "execution_count": 5
        },
        {
          "output_type": "display_data",
          "data": {
            "text/plain": [
              "<Figure size 432x288 with 1 Axes>"
            ],
            "image/png": "[encoded data removed]"
          },
          "metadata": {
            "needs_background": "light"
          }
        }
      ]
    },
    {
      "cell_type": "markdown",
      "source": [
        "\n",
        "*   Time-window linear analysis: We’re really interested in sequences of data. So instead of considering time points one at a time, consider overlapping time windows of, say, an hour, or two hours, or 12 hours. Produce a moving-window data matrix (call it M).\n",
        "\n",
        "E.g. if we do an hour, take time points 1 through 12 and concatenate them, produce a vector of 216 * 12 = 2592 that is the first row of your moving-window data matrix. Then take time points 2 through 13, concatenate them, that’s the second row of M.\n",
        "The result is a block-Hankel matrix of size 104498 x 2592. Compute this matrix’s singular values. Is there a good low-rank representation? What if we use a 2-hour moving window? A 12-hour moving window?"
      ],
      "metadata": {
        "id": "j1qnIOeM61xp"
      }
    },
    {
      "cell_type": "code",
      "source": [
        "from tqdm import trange\n",
        "def moving_window(matrix,window = 12):\n",
        "  moving_window = np.zeros((matrix.shape[0],2628))\n",
        "  for i in trange(105396):\n",
        "    moving_window[i,:] = matrix[i:i+window,:].reshape(-1,)\n",
        "  return moving_window\n",
        "\n",
        "one_hour_window = moving_window(concat)"
      ],
      "metadata": {
        "colab": {
          "base_uri": "https://localhost:8080/"
        },
        "id": "SJmXReiL6zrs",
        "outputId": "0978baec-577c-4573-fb5c-9895e33f74b0"
      },
      "execution_count": 6,
      "outputs": [
        {
          "output_type": "stream",
          "name": "stderr",
          "text": [
            "100%|██████████| 105396/105396 [00:01<00:00, 80472.75it/s]\n"
          ]
        }
      ]
    },
    {
      "cell_type": "code",
      "source": [
        "U,s,Vh = linalg.svd(one_hour_window,full_matrices = False) #this will take a while\n",
        "plt.plot(s)"
      ],
      "metadata": {
        "colab": {
          "base_uri": "https://localhost:8080/",
          "height": 293
        },
        "id": "y4g0QnFk63zL",
        "outputId": "d55228c3-0f79-443b-83fb-23a343a8ea38"
      },
      "execution_count": 7,
      "outputs": [
        {
          "output_type": "execute_result",
          "data": {
            "text/plain": [
              "[<matplotlib.lines.Line2D at 0x7f210dac2290>]"
            ]
          },
          "metadata": {},
          "execution_count": 7
        },
        {
          "output_type": "display_data",
          "data": {
            "text/plain": [
              "<Figure size 432x288 with 1 Axes>"
            ],
            "image/png": "[encoded data removed]"
          },
          "metadata": {
            "needs_background": "light"
          }
        }
      ]
    },
    {
      "cell_type": "markdown",
      "source": [
        "Here is the first 100 singlar values"
      ],
      "metadata": {
        "id": "2h9ET89s8Kf3"
      }
    },
    {
      "cell_type": "code",
      "source": [
        "print(s[0:100])"
      ],
      "metadata": {
        "colab": {
          "base_uri": "https://localhost:8080/"
        },
        "id": "egLb1yGA65wt",
        "outputId": "910ce07c-eb30-42cf-c50e-ee54cf5526e4"
      },
      "execution_count": 8,
      "outputs": [
        {
          "output_type": "stream",
          "name": "stdout",
          "text": [
            "[1126401.73740149  275765.65005622   70199.20015836   28423.76912614\n",
            "   16779.46201833    4828.94935402    3406.43723777    3366.40572935\n",
            "    3090.27911064    2522.28940603    2329.069796      2060.48671967\n",
            "    1669.8722642     1592.579294      1505.23405353    1319.31396686\n",
            "    1318.07162464    1205.92598549    1112.87003145    1072.04412472\n",
            "    1050.86179555     985.3953404      902.22740738     877.43224901\n",
            "     729.52530599     600.31491948     598.02491022     517.8705923\n",
            "     459.56312518     422.14072023     417.07541582     400.84573256\n",
            "     392.94211486     336.11900385     265.24226156     252.99323917\n",
            "     222.48762718     193.12298227     176.46193945     169.81341184\n",
            "     156.30226599     148.53380272     146.2360904      127.03192307\n",
            "     112.55976077     101.69642109      80.07182317      74.75581827\n",
            "      71.38611532      63.43264005      58.43503643      52.26186378\n",
            "      51.11269083      50.18612929      43.08889701      35.6761872\n",
            "      30.71948233      25.22046671      22.3799138       21.02087904\n",
            "      18.82246657      15.16375465      13.31449743      12.85955396\n",
            "      11.65746407      11.02654837      10.62393667       9.77957294\n",
            "       9.76533286       9.44714856       9.25194322       8.88734896\n",
            "       7.47929866       6.70069048       5.89275479       5.46109537\n",
            "       5.27584262       4.531271         4.39259557       4.13345162\n",
            "       3.94448412       3.78736219       3.7713917        3.27300896\n",
            "       2.78582093       2.56786308       2.19524193       1.96123139\n",
            "       1.80927639       1.66155852       1.45183639       1.35416312\n",
            "       1.34049945       1.32932695       1.12127165       1.11741659\n",
            "       1.08535811       0.98395188       0.96988149       0.92028845]\n"
          ]
        }
      ]
    }
  ]
}